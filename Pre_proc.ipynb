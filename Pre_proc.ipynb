{
 "cells": [
  {
   "cell_type": "code",
   "execution_count": 1,
   "id": "fa5ecf91-49ce-4819-9dc4-83881fb9c764",
   "metadata": {
    "execution": {
     "iopub.execute_input": "2025-08-25T14:03:01.379440Z",
     "iopub.status.busy": "2025-08-25T14:03:01.379111Z",
     "iopub.status.idle": "2025-08-25T14:03:01.530621Z",
     "shell.execute_reply": "2025-08-25T14:03:01.530010Z",
     "shell.execute_reply.started": "2025-08-25T14:03:01.379418Z"
    }
   },
   "outputs": [
    {
     "name": "stdout",
     "output_type": "stream",
     "text": [
      "/home/sagemaker-user/hjoshi/Lesion_Tracker_Liver\n"
     ]
    }
   ],
   "source": [
    "!pwd"
   ]
  },
  {
   "cell_type": "code",
   "execution_count": 2,
   "id": "9e628d72-91e8-46e1-9438-62ebe3c1cb80",
   "metadata": {
    "execution": {
     "iopub.execute_input": "2025-08-25T14:03:01.837439Z",
     "iopub.status.busy": "2025-08-25T14:03:01.837091Z",
     "iopub.status.idle": "2025-08-25T14:03:11.698292Z",
     "shell.execute_reply": "2025-08-25T14:03:11.697507Z",
     "shell.execute_reply.started": "2025-08-25T14:03:01.837414Z"
    }
   },
   "outputs": [],
   "source": [
    "!pip install nibabel totalsegmentator==2.4.0 nbformat -qU"
   ]
  },
  {
   "cell_type": "code",
   "execution_count": 3,
   "id": "20c3c8f8-5772-45b3-a149-4b4e83d28156",
   "metadata": {
    "execution": {
     "iopub.execute_input": "2025-08-25T14:03:11.700323Z",
     "iopub.status.busy": "2025-08-25T14:03:11.699751Z",
     "iopub.status.idle": "2025-08-25T14:03:16.866565Z",
     "shell.execute_reply": "2025-08-25T14:03:16.865923Z",
     "shell.execute_reply.started": "2025-08-25T14:03:11.700289Z"
    }
   },
   "outputs": [
    {
     "name": "stdout",
     "output_type": "stream",
     "text": [
      "Collecting opencv-python-headless\n",
      "  Using cached opencv_python_headless-4.12.0.88-cp37-abi3-manylinux2014_x86_64.manylinux_2_17_x86_64.whl.metadata (19 kB)\n",
      "Collecting numpy<2.3.0,>=2 (from opencv-python-headless)\n",
      "  Using cached numpy-2.2.6-cp312-cp312-manylinux_2_17_x86_64.manylinux2014_x86_64.whl.metadata (62 kB)\n",
      "Using cached opencv_python_headless-4.12.0.88-cp37-abi3-manylinux2014_x86_64.manylinux_2_17_x86_64.whl (54.0 MB)\n",
      "Using cached numpy-2.2.6-cp312-cp312-manylinux_2_17_x86_64.manylinux2014_x86_64.whl (16.5 MB)\n",
      "Installing collected packages: numpy, opencv-python-headless\n",
      "\u001b[2K  Attempting uninstall: numpy\n",
      "\u001b[2K    Found existing installation: numpy 1.26.4\n",
      "\u001b[2K    Uninstalling numpy-1.26.4:\n",
      "\u001b[2K      Successfully uninstalled numpy-1.26.4\n",
      "\u001b[2K   \u001b[90m━━━━━━━━━━━━━━━━━━━━━━━━━━━━━━━━━━━━━━━━\u001b[0m \u001b[32m2/2\u001b[0m [opencv-python-headless]v-python-headless]\n",
      "\u001b[1A\u001b[2K\u001b[31mERROR: pip's dependency resolver does not currently take into account all the packages that are installed. This behaviour is the source of the following dependency conflicts.\n",
      "autogluon-multimodal 1.3.1 requires nvidia-ml-py3<8.0,>=7.352.0, which is not installed.\n",
      "amazon-sagemaker-jupyter-ai-q-developer 1.2.7 requires numpy<=2.0.1, but you have numpy 2.2.6 which is incompatible.\n",
      "amazon-sagemaker-sql-magic 0.1.4 requires numpy<2, but you have numpy 2.2.6 which is incompatible.\n",
      "autogluon-multimodal 1.3.1 requires nltk<3.9,>=3.4.5, but you have nltk 3.9.1 which is incompatible.\n",
      "autogluon-multimodal 1.3.1 requires transformers[sentencepiece]<4.50,>=4.38.0, but you have transformers 4.53.1 which is incompatible.\n",
      "autogluon-timeseries 1.3.1 requires transformers[sentencepiece]<4.50,>=4.38.0, but you have transformers 4.53.1 which is incompatible.\n",
      "catboost 1.2.7 requires numpy<2.0,>=1.16.0, but you have numpy 2.2.6 which is incompatible.\n",
      "gluonts 0.16.2 requires numpy<2.2,>=1.16, but you have numpy 2.2.6 which is incompatible.\n",
      "langchain-aws 0.2.19 requires boto3>=1.37.24, but you have boto3 1.37.1 which is incompatible.\n",
      "sagemaker 2.245.0 requires numpy==1.26.4, but you have numpy 2.2.6 which is incompatible.\n",
      "sparkmagic 0.21.0 requires pandas<2.0.0,>=0.17.1, but you have pandas 2.2.3 which is incompatible.\n",
      "totalsegmentator 2.4.0 requires numpy<2, but you have numpy 2.2.6 which is incompatible.\u001b[0m\u001b[31m\n",
      "\u001b[0mSuccessfully installed numpy-2.2.6 opencv-python-headless-4.12.0.88\n"
     ]
    }
   ],
   "source": [
    "!pip install opencv-python-headless"
   ]
  },
  {
   "cell_type": "code",
   "execution_count": 4,
   "id": "7de2995e-27b1-441e-af8a-3b23d4f542f7",
   "metadata": {
    "execution": {
     "iopub.execute_input": "2025-08-25T14:03:16.867499Z",
     "iopub.status.busy": "2025-08-25T14:03:16.867299Z",
     "iopub.status.idle": "2025-08-25T14:03:19.544165Z",
     "shell.execute_reply": "2025-08-25T14:03:19.543678Z",
     "shell.execute_reply.started": "2025-08-25T14:03:16.867479Z"
    }
   },
   "outputs": [
    {
     "name": "stderr",
     "output_type": "stream",
     "text": [
      "/opt/conda/lib/python3.12/site-packages/totalsegmentator/config.py:8: UserWarning: pkg_resources is deprecated as an API. See https://setuptools.pypa.io/en/latest/pkg_resources.html. The pkg_resources package is slated for removal as early as 2025-11-30. Refrain from using this package or pin to Setuptools<81.\n",
      "  import pkg_resources\n"
     ]
    }
   ],
   "source": [
    "import nibabel as nib\n",
    "import SimpleITK as sitk\n",
    "import matplotlib.pyplot as plt\n",
    "from totalsegmentator.python_api import totalsegmentator\n",
    "import os\n",
    "import glob\n",
    "from tqdm import tqdm\n",
    "import numpy as np\n",
    "# import cv2\n",
    "import tarfile\n",
    "import shutil\n",
    "\n",
    "import SimpleITK as sitk\n",
    "import glob\n",
    "import numpy as np\n",
    "import pandas as pd\n",
    "from tqdm import tqdm\n",
    "import os\n",
    "from skimage.measure import centroid\n",
    "from concurrent.futures import ThreadPoolExecutor\n",
    "from enum import Enum\n",
    "import sys\n",
    "import matplotlib.pyplot as plt\n",
    "import nibabel as nib \n",
    "\n",
    "from enum import Enum\n",
    "import pandas as pd\n",
    "from pydantic import BaseModel"
   ]
  },
  {
   "cell_type": "code",
   "execution_count": 13,
   "id": "e558406a-872b-44e3-9248-1bb670d614b4",
   "metadata": {
    "execution": {
     "iopub.execute_input": "2025-08-25T14:22:47.934231Z",
     "iopub.status.busy": "2025-08-25T14:22:47.933913Z",
     "iopub.status.idle": "2025-08-25T14:22:47.936925Z",
     "shell.execute_reply": "2025-08-25T14:22:47.936469Z",
     "shell.execute_reply.started": "2025-08-25T14:22:47.934211Z"
    }
   },
   "outputs": [],
   "source": [
    "seg_path = \"data/labels_liver_cropped/\""
   ]
  },
  {
   "cell_type": "code",
   "execution_count": 14,
   "id": "8a5afd20-56c3-4a65-b496-8f003559345f",
   "metadata": {
    "execution": {
     "iopub.execute_input": "2025-08-25T14:22:49.105672Z",
     "iopub.status.busy": "2025-08-25T14:22:49.105348Z",
     "iopub.status.idle": "2025-08-25T14:22:49.108871Z",
     "shell.execute_reply": "2025-08-25T14:22:49.108239Z",
     "shell.execute_reply.started": "2025-08-25T14:22:49.105652Z"
    }
   },
   "outputs": [],
   "source": [
    "def read_nifti(path):\n",
    "    img = nib.load(path)\n",
    "    img_data = img.get_fdata()\n",
    "    img_affine = img.affine\n",
    "    img_header = img.header\n",
    "    return img, img_data"
   ]
  },
  {
   "cell_type": "code",
   "execution_count": 15,
   "id": "9868b156-e3a5-40f8-9b5f-5f7e0719e104",
   "metadata": {
    "execution": {
     "iopub.execute_input": "2025-08-25T14:22:49.831083Z",
     "iopub.status.busy": "2025-08-25T14:22:49.830768Z",
     "iopub.status.idle": "2025-08-25T14:22:49.834462Z",
     "shell.execute_reply": "2025-08-25T14:22:49.833933Z",
     "shell.execute_reply.started": "2025-08-25T14:22:49.831064Z"
    }
   },
   "outputs": [],
   "source": [
    "def create_tumor_seg(path, save_path):\n",
    "    seg, seg_data = read_nifti(path)\n",
    "    seg_data[seg_data == 1] = 0 \n",
    "    tumor_img = nib.Nifti1Image(seg_data, affine=seg.affine)\n",
    "    output_path = f'{save_path}/labels_2/{path.split('/')[-1]}.gz'\n",
    "    nib.save(tumor_img, output_path)\n",
    "    return output_path"
   ]
  },
  {
   "cell_type": "code",
   "execution_count": 8,
   "id": "1c48d291-de1b-4d4a-8f8a-148b39885e5a",
   "metadata": {
    "execution": {
     "iopub.execute_input": "2025-08-25T12:30:05.924640Z",
     "iopub.status.busy": "2025-08-25T12:30:05.924306Z",
     "iopub.status.idle": "2025-08-25T12:30:05.927314Z",
     "shell.execute_reply": "2025-08-25T12:30:05.926839Z",
     "shell.execute_reply.started": "2025-08-25T12:30:05.924618Z"
    }
   },
   "outputs": [],
   "source": [
    "images_path = \"data/images/\""
   ]
  },
  {
   "cell_type": "code",
   "execution_count": 16,
   "id": "33d3c897-ca37-4ad7-b4ce-5f96eedbedfd",
   "metadata": {
    "execution": {
     "iopub.execute_input": "2025-08-25T14:22:58.094075Z",
     "iopub.status.busy": "2025-08-25T14:22:58.093487Z",
     "iopub.status.idle": "2025-08-25T14:22:58.096653Z",
     "shell.execute_reply": "2025-08-25T14:22:58.096180Z",
     "shell.execute_reply.started": "2025-08-25T14:22:58.094054Z"
    }
   },
   "outputs": [],
   "source": [
    "path_list = os.listdir(seg_path)"
   ]
  },
  {
   "cell_type": "code",
   "execution_count": 17,
   "id": "2e8a36a2-a052-4403-afd7-a1df3128e3f1",
   "metadata": {
    "execution": {
     "iopub.execute_input": "2025-08-25T14:23:36.189527Z",
     "iopub.status.busy": "2025-08-25T14:23:36.189189Z",
     "iopub.status.idle": "2025-08-25T14:23:40.086511Z",
     "shell.execute_reply": "2025-08-25T14:23:40.085898Z",
     "shell.execute_reply.started": "2025-08-25T14:23:36.189504Z"
    }
   },
   "outputs": [],
   "source": [
    "for idx in range(len(path_list)):\n",
    "    path = os.path.join(seg_path, path_list[idx])\n",
    "    seg, seg_data = read_nifti(path)\n",
    "    seg_data[np.where(seg_data == 1)] = 0\n",
    "    seg_data[np.where(seg_data == 2)] = 1\n",
    "    tumor_img =  nib.Nifti1Image(seg_data, affine=seg.affine)\n",
    "    output_path = f'data/labels_tumor_cropped/{path_list[idx]}'\n",
    "    nib.save(tumor_img, output_path)"
   ]
  },
  {
   "cell_type": "code",
   "execution_count": 12,
   "id": "6bbe1073-e473-4e8a-85cb-b10e0a7a2e41",
   "metadata": {
    "execution": {
     "iopub.execute_input": "2025-08-25T14:12:01.761300Z",
     "iopub.status.busy": "2025-08-25T14:12:01.760790Z",
     "iopub.status.idle": "2025-08-25T14:12:18.191810Z",
     "shell.execute_reply": "2025-08-25T14:12:18.191324Z",
     "shell.execute_reply.started": "2025-08-25T14:12:01.761280Z"
    }
   },
   "outputs": [
    {
     "name": "stdout",
     "output_type": "stream",
     "text": [
      "Created and cropped liver_0.nii.gz for both image and label.\n",
      "Created and cropped liver_1.nii.gz for both image and label.\n",
      "Created and cropped liver_10.nii.gz for both image and label.\n",
      "Created and cropped liver_101.nii.gz for both image and label.\n",
      "Created and cropped liver_102.nii.gz for both image and label.\n",
      "Created and cropped liver_104.nii.gz for both image and label.\n",
      "Created and cropped liver_105.nii.gz for both image and label.\n",
      "Created and cropped liver_106.nii.gz for both image and label.\n",
      "Created and cropped liver_107.nii.gz for both image and label.\n",
      "Created and cropped liver_108.nii.gz for both image and label.\n",
      "Created and cropped liver_109.nii.gz for both image and label.\n",
      "Created and cropped liver_11.nii.gz for both image and label.\n",
      "Created and cropped liver_110.nii.gz for both image and label.\n",
      "Created and cropped liver_111.nii.gz for both image and label.\n",
      "Created and cropped liver_112.nii.gz for both image and label.\n",
      "Created and cropped liver_113.nii.gz for both image and label.\n",
      "Created and cropped liver_114.nii.gz for both image and label.\n",
      "Created and cropped liver_115.nii.gz for both image and label.\n",
      "Created and cropped liver_116.nii.gz for both image and label.\n",
      "Created and cropped liver_117.nii.gz for both image and label.\n",
      "Created and cropped liver_118.nii.gz for both image and label.\n",
      "Created and cropped liver_119.nii.gz for both image and label.\n",
      "Created and cropped liver_12.nii.gz for both image and label.\n",
      "Created and cropped liver_120.nii.gz for both image and label.\n",
      "Created and cropped liver_121.nii.gz for both image and label.\n",
      "Created and cropped liver_122.nii.gz for both image and label.\n",
      "Created and cropped liver_123.nii.gz for both image and label.\n",
      "Created and cropped liver_125.nii.gz for both image and label.\n",
      "Created and cropped liver_126.nii.gz for both image and label.\n",
      "Created and cropped liver_127.nii.gz for both image and label.\n",
      "Created and cropped liver_128.nii.gz for both image and label.\n",
      "Created and cropped liver_129.nii.gz for both image and label.\n",
      "Created and cropped liver_13.nii.gz for both image and label.\n",
      "Created and cropped liver_14.nii.gz for both image and label.\n",
      "Created and cropped liver_15.nii.gz for both image and label.\n",
      "Created and cropped liver_16.nii.gz for both image and label.\n",
      "Created and cropped liver_17.nii.gz for both image and label.\n",
      "Created and cropped liver_18.nii.gz for both image and label.\n",
      "Created and cropped liver_19.nii.gz for both image and label.\n",
      "Created and cropped liver_2.nii.gz for both image and label.\n",
      "Created and cropped liver_20.nii.gz for both image and label.\n",
      "Created and cropped liver_21.nii.gz for both image and label.\n",
      "Created and cropped liver_22.nii.gz for both image and label.\n",
      "Created and cropped liver_23.nii.gz for both image and label.\n",
      "Created and cropped liver_24.nii.gz for both image and label.\n",
      "Created and cropped liver_25.nii.gz for both image and label.\n",
      "Created and cropped liver_26.nii.gz for both image and label.\n",
      "Created and cropped liver_27.nii.gz for both image and label.\n",
      "Created and cropped liver_28.nii.gz for both image and label.\n",
      "Created and cropped liver_29.nii.gz for both image and label.\n",
      "Created and cropped liver_3.nii.gz for both image and label.\n",
      "Created and cropped liver_30.nii.gz for both image and label.\n",
      "Created and cropped liver_31.nii.gz for both image and label.\n",
      "Created and cropped liver_32.nii.gz for both image and label.\n",
      "Created and cropped liver_33.nii.gz for both image and label.\n",
      "Created and cropped liver_34.nii.gz for both image and label.\n",
      "Created and cropped liver_35.nii.gz for both image and label.\n",
      "Created and cropped liver_36.nii.gz for both image and label.\n",
      "Created and cropped liver_37.nii.gz for both image and label.\n",
      "Created and cropped liver_38.nii.gz for both image and label.\n",
      "Created and cropped liver_39.nii.gz for both image and label.\n",
      "Created and cropped liver_4.nii.gz for both image and label.\n",
      "Created and cropped liver_40.nii.gz for both image and label.\n",
      "Created and cropped liver_41.nii.gz for both image and label.\n",
      "Created and cropped liver_42.nii.gz for both image and label.\n",
      "Created and cropped liver_43.nii.gz for both image and label.\n",
      "Created and cropped liver_44.nii.gz for both image and label.\n",
      "Created and cropped liver_45.nii.gz for both image and label.\n",
      "Created and cropped liver_46.nii.gz for both image and label.\n",
      "Created and cropped liver_47.nii.gz for both image and label.\n",
      "Created and cropped liver_48.nii.gz for both image and label.\n",
      "Created and cropped liver_49.nii.gz for both image and label.\n",
      "Created and cropped liver_5.nii.gz for both image and label.\n",
      "Created and cropped liver_50.nii.gz for both image and label.\n",
      "Created and cropped liver_51.nii.gz for both image and label.\n",
      "Created and cropped liver_52.nii.gz for both image and label.\n",
      "Created and cropped liver_53.nii.gz for both image and label.\n",
      "Created and cropped liver_54.nii.gz for both image and label.\n",
      "Created and cropped liver_55.nii.gz for both image and label.\n",
      "Created and cropped liver_56.nii.gz for both image and label.\n",
      "Created and cropped liver_57.nii.gz for both image and label.\n",
      "Created and cropped liver_58.nii.gz for both image and label.\n",
      "Created and cropped liver_59.nii.gz for both image and label.\n",
      "Created and cropped liver_6.nii.gz for both image and label.\n",
      "Created and cropped liver_60.nii.gz for both image and label.\n",
      "Created and cropped liver_61.nii.gz for both image and label.\n",
      "Created and cropped liver_62.nii.gz for both image and label.\n",
      "Created and cropped liver_63.nii.gz for both image and label.\n",
      "Created and cropped liver_64.nii.gz for both image and label.\n",
      "Created and cropped liver_65.nii.gz for both image and label.\n",
      "Created and cropped liver_66.nii.gz for both image and label.\n",
      "Created and cropped liver_67.nii.gz for both image and label.\n",
      "Created and cropped liver_68.nii.gz for both image and label.\n",
      "Created and cropped liver_69.nii.gz for both image and label.\n",
      "Created and cropped liver_7.nii.gz for both image and label.\n",
      "Created and cropped liver_70.nii.gz for both image and label.\n",
      "Created and cropped liver_71.nii.gz for both image and label.\n",
      "Created and cropped liver_72.nii.gz for both image and label.\n",
      "Created and cropped liver_73.nii.gz for both image and label.\n",
      "Created and cropped liver_74.nii.gz for both image and label.\n",
      "Created and cropped liver_75.nii.gz for both image and label.\n",
      "Created and cropped liver_76.nii.gz for both image and label.\n",
      "Created and cropped liver_77.nii.gz for both image and label.\n",
      "Created and cropped liver_78.nii.gz for both image and label.\n",
      "Created and cropped liver_79.nii.gz for both image and label.\n",
      "Created and cropped liver_8.nii.gz for both image and label.\n",
      "Created and cropped liver_80.nii.gz for both image and label.\n",
      "Created and cropped liver_81.nii.gz for both image and label.\n",
      "Created and cropped liver_82.nii.gz for both image and label.\n",
      "Created and cropped liver_83.nii.gz for both image and label.\n",
      "Created and cropped liver_84.nii.gz for both image and label.\n",
      "Created and cropped liver_87.nii.gz for both image and label.\n",
      "Created and cropped liver_88.nii.gz for both image and label.\n",
      "Created and cropped liver_89.nii.gz for both image and label.\n",
      "Created and cropped liver_9.nii.gz for both image and label.\n",
      "Created and cropped liver_90.nii.gz for both image and label.\n",
      "Created and cropped liver_91.nii.gz for both image and label.\n",
      "Created and cropped liver_92.nii.gz for both image and label.\n",
      "Created and cropped liver_93.nii.gz for both image and label.\n",
      "Created and cropped liver_94.nii.gz for both image and label.\n",
      "Created and cropped liver_95.nii.gz for both image and label.\n",
      "Created and cropped liver_98.nii.gz for both image and label.\n",
      "Created and cropped liver_99.nii.gz for both image and label.\n"
     ]
    }
   ],
   "source": [
    "def create_and_crop_liver_data(image_folder, labels_folder, output_image_folder, output_labels_folder):\n",
    "    \"\"\"\n",
    "    Filters a CT scan to show only liver/tumor HU values, then crops both the\n",
    "    CT and label files based on the liver's z-range and the bounding box of \n",
    "    the largest 2D segmented slice.\n",
    "    \"\"\"\n",
    "\n",
    "    for folder in [output_image_folder, output_labels_folder]:\n",
    "        if not os.path.exists(folder):\n",
    "            os.makedirs(folder)\n",
    "\n",
    "    for filename in os.listdir(image_folder):\n",
    "        if filename.endswith(\".nii\"):\n",
    "            image_path = os.path.join(image_folder, filename)\n",
    "            label_path = os.path.join(labels_folder, filename)\n",
    "\n",
    "            if not os.path.exists(label_path):\n",
    "                print(f\"Skipping {filename} as no corresponding label file was found.\")\n",
    "                continue\n",
    "\n",
    "            # Load the data\n",
    "            img = nib.load(image_path)\n",
    "            label = nib.load(label_path)\n",
    "            \n",
    "            img_data = img.get_fdata()\n",
    "            label_data = label.get_fdata()\n",
    "\n",
    "            if img_data.shape != label_data.shape:\n",
    "                print(f\"Shapes of {filename} image and label do not match. Skipping.\")\n",
    "                continue\n",
    "\n",
    "            # Step 1: Find the largest segmented slice and its x,y bounding box\n",
    "            slice_voxel_counts = np.sum(label_data > 0, axis=(1, 2))\n",
    "            if np.sum(slice_voxel_counts) == 0:\n",
    "                print(f\"No liver segmentation found in {filename}. Skipping.\")\n",
    "                continue\n",
    "            \n",
    "            largest_slice_index = np.argmax(slice_voxel_counts)\n",
    "            largest_slice = label_data[largest_slice_index, :, :]\n",
    "            \n",
    "            coords_xy = np.argwhere(largest_slice > 0)\n",
    "            if coords_xy.size == 0:\n",
    "                print(f\"Largest slice found but is empty. Skipping {filename}.\")\n",
    "                continue\n",
    "            \n",
    "            min_y, min_x = coords_xy.min(axis=0)\n",
    "            max_y, max_x = coords_xy.max(axis=0)\n",
    "            \n",
    "            buffer = 10\n",
    "            min_y = max(0, min_y - buffer)\n",
    "            min_x = max(0, min_x - buffer)\n",
    "            max_y = min(img_data.shape[1], max_y + buffer)\n",
    "            max_x = min(img_data.shape[2], max_x + buffer)\n",
    "\n",
    "            # Step 2: Find the z-range (slices) where the liver exists\n",
    "            z_coords = np.argwhere(slice_voxel_counts > 0)\n",
    "            min_z = z_coords.min()\n",
    "            max_z = z_coords.max()\n",
    "            \n",
    "            # Step 3: Apply the cropping to BOTH the image data and the label data\n",
    "            \n",
    "            # Create a mask to get only liver/tumor HU values, then crop\n",
    "            mask = np.where(label_data > 0, 1, 0)\n",
    "            liver_only_data = img_data * mask\n",
    "            cropped_img_data = liver_only_data[min_z:max_z, min_y:max_y, min_x:max_x]\n",
    "            \n",
    "            # Crop the original label data using the same coordinates\n",
    "            cropped_label_data = label_data[min_z:max_z, min_y:max_y, min_x:max_x]\n",
    "\n",
    "            # Step 4: Save the new images and labels\n",
    "            output_filename = filename.replace(\".nii\", \".nii.gz\")\n",
    "            \n",
    "            # Save the cropped image\n",
    "            cropped_img = nib.Nifti1Image(cropped_img_data, img.affine)\n",
    "            output_img_path = os.path.join(output_image_folder, output_filename)\n",
    "            nib.save(cropped_img, output_img_path)\n",
    "            \n",
    "            # Save the cropped label\n",
    "            cropped_label = nib.Nifti1Image(cropped_label_data, label.affine)\n",
    "            output_label_path = os.path.join(output_labels_folder, output_filename)\n",
    "            nib.save(cropped_label, output_label_path)\n",
    "            \n",
    "            print(f\"Created and cropped {output_filename} for both image and label.\")\n",
    "\n",
    "# Define your folder paths\n",
    "images_folder = 'data/images'\n",
    "labels_folder = 'data/labels_liver_and_tumor'\n",
    "output_folder = 'data/images_liver_2'\n",
    "output_labels_folder = 'data/labels_liver_cropped'\n",
    "\n",
    "# Run the function\n",
    "create_and_crop_liver_data(images_folder, labels_folder, output_folder, output_labels_folder)"
   ]
  },
  {
   "cell_type": "code",
   "execution_count": null,
   "id": "83d2c196-e4b5-4646-a0d3-41bf5898a0c6",
   "metadata": {},
   "outputs": [],
   "source": []
  }
 ],
 "metadata": {
  "kernelspec": {
   "display_name": "Python 3 (ipykernel)",
   "language": "python",
   "name": "python3"
  },
  "language_info": {
   "codemirror_mode": {
    "name": "ipython",
    "version": 3
   },
   "file_extension": ".py",
   "mimetype": "text/x-python",
   "name": "python",
   "nbconvert_exporter": "python",
   "pygments_lexer": "ipython3",
   "version": "3.12.9"
  }
 },
 "nbformat": 4,
 "nbformat_minor": 5
}
