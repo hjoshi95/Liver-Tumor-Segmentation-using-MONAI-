{
 "cells": [
  {
   "cell_type": "code",
   "execution_count": 46,
   "id": "5d6497ac-b02d-45c0-bfea-3d5fa5ed9b0a",
   "metadata": {
    "execution": {
     "iopub.execute_input": "2025-09-03T13:38:08.027623Z",
     "iopub.status.busy": "2025-09-03T13:38:08.027192Z",
     "iopub.status.idle": "2025-09-03T13:38:08.031653Z",
     "shell.execute_reply": "2025-09-03T13:38:08.030996Z",
     "shell.execute_reply.started": "2025-09-03T13:38:08.027591Z"
    }
   },
   "outputs": [],
   "source": [
    "import os, copy\n",
    "import torch\n",
    "import numpy as np\n",
    "import nibabel as nib\n",
    "import glob \n",
    "import pandas as pd\n",
    "from monai.transforms import LoadImage\n",
    "from monai.metrics import DiceMetric"
   ]
  },
  {
   "cell_type": "code",
   "execution_count": 111,
   "id": "1f92d279-c2ab-479f-8181-2e5d64f712d1",
   "metadata": {
    "execution": {
     "iopub.execute_input": "2025-09-03T15:22:41.722516Z",
     "iopub.status.busy": "2025-09-03T15:22:41.722130Z",
     "iopub.status.idle": "2025-09-03T15:22:41.725999Z",
     "shell.execute_reply": "2025-09-03T15:22:41.725271Z",
     "shell.execute_reply.started": "2025-09-03T15:22:41.722492Z"
    }
   },
   "outputs": [],
   "source": [
    "val_results_path = \"val_results\"\n",
    "gt_path = \"labels_tumor_cropped\""
   ]
  },
  {
   "cell_type": "code",
   "execution_count": 112,
   "id": "4784ca14-c066-48ca-8291-de27c27f275e",
   "metadata": {
    "execution": {
     "iopub.execute_input": "2025-09-03T15:22:41.970427Z",
     "iopub.status.busy": "2025-09-03T15:22:41.970053Z",
     "iopub.status.idle": "2025-09-03T15:22:41.974366Z",
     "shell.execute_reply": "2025-09-03T15:22:41.973768Z",
     "shell.execute_reply.started": "2025-09-03T15:22:41.970402Z"
    }
   },
   "outputs": [],
   "source": [
    "val_results = glob.glob(f'{val_results_path}/**.nii.gz', recursive=False)"
   ]
  },
  {
   "cell_type": "code",
   "execution_count": 113,
   "id": "875b2eb2-e748-460a-a457-d511e14ce3da",
   "metadata": {
    "execution": {
     "iopub.execute_input": "2025-09-03T15:22:42.355884Z",
     "iopub.status.busy": "2025-09-03T15:22:42.355158Z",
     "iopub.status.idle": "2025-09-03T15:22:42.359839Z",
     "shell.execute_reply": "2025-09-03T15:22:42.359147Z",
     "shell.execute_reply.started": "2025-09-03T15:22:42.355858Z"
    }
   },
   "outputs": [],
   "source": [
    "liver_ids = [val_results[idx].split('/')[1].split('_pred.nii.gz')[0] for idx in range(len(val_results))] \n",
    "gt_paths = [f'{gt_path}/{liver_ids[idx]}.nii.gz' for idx in range(len(liver_ids))]"
   ]
  },
  {
   "cell_type": "code",
   "execution_count": 114,
   "id": "176f4823-ab08-4f65-ab7e-f62167e11ced",
   "metadata": {
    "execution": {
     "iopub.execute_input": "2025-09-03T15:22:43.134926Z",
     "iopub.status.busy": "2025-09-03T15:22:43.134544Z",
     "iopub.status.idle": "2025-09-03T15:22:43.138584Z",
     "shell.execute_reply": "2025-09-03T15:22:43.137851Z",
     "shell.execute_reply.started": "2025-09-03T15:22:43.134896Z"
    }
   },
   "outputs": [],
   "source": [
    "data = {\n",
    "    'liver_id' : liver_ids,\n",
    "    'gt_paths': gt_paths,\n",
    "    'val_paths': val_results   \n",
    "       }\n",
    "\n"
   ]
  },
  {
   "cell_type": "code",
   "execution_count": 115,
   "id": "cfefd322-d246-4b58-8875-22acb5537c75",
   "metadata": {
    "execution": {
     "iopub.execute_input": "2025-09-03T15:22:43.673825Z",
     "iopub.status.busy": "2025-09-03T15:22:43.673449Z",
     "iopub.status.idle": "2025-09-03T15:22:43.677802Z",
     "shell.execute_reply": "2025-09-03T15:22:43.677087Z",
     "shell.execute_reply.started": "2025-09-03T15:22:43.673799Z"
    }
   },
   "outputs": [],
   "source": [
    "df = pd.DataFrame(data)"
   ]
  },
  {
   "cell_type": "code",
   "execution_count": 79,
   "id": "0f4adfe5-b93e-4758-b84b-a19f3ad2f725",
   "metadata": {
    "execution": {
     "iopub.execute_input": "2025-09-03T14:41:56.996801Z",
     "iopub.status.busy": "2025-09-03T14:41:56.996406Z",
     "iopub.status.idle": "2025-09-03T14:41:57.000058Z",
     "shell.execute_reply": "2025-09-03T14:41:56.999478Z",
     "shell.execute_reply.started": "2025-09-03T14:41:56.996774Z"
    }
   },
   "outputs": [],
   "source": [
    "example_gt = \"labels_tumor_cropped/liver_94.nii.gz\"\t\n",
    "example_val = \"val_results/liver_94_pred.nii.gz\""
   ]
  },
  {
   "cell_type": "code",
   "execution_count": 60,
   "id": "15d9914f-f085-41c3-a42c-bcc7631cbf65",
   "metadata": {
    "execution": {
     "iopub.execute_input": "2025-09-03T13:42:46.856332Z",
     "iopub.status.busy": "2025-09-03T13:42:46.855647Z",
     "iopub.status.idle": "2025-09-03T13:42:46.877770Z",
     "shell.execute_reply": "2025-09-03T13:42:46.877152Z",
     "shell.execute_reply.started": "2025-09-03T13:42:46.856305Z"
    }
   },
   "outputs": [],
   "source": [
    "seg_gt = nib.load(example_gt)\n",
    "seg_val = nib.load(example_val)\n",
    "\n",
    "seg_gt_data = seg_gt.get_fdata()\n",
    "seg_val_data = seg_val.get_fdata()"
   ]
  },
  {
   "cell_type": "code",
   "execution_count": 76,
   "id": "6ae999e2-3919-44fc-8bf1-51e613a16ff3",
   "metadata": {
    "execution": {
     "iopub.execute_input": "2025-09-03T14:01:14.175926Z",
     "iopub.status.busy": "2025-09-03T14:01:14.175247Z",
     "iopub.status.idle": "2025-09-03T14:01:14.180244Z",
     "shell.execute_reply": "2025-09-03T14:01:14.179431Z",
     "shell.execute_reply.started": "2025-09-03T14:01:14.175892Z"
    }
   },
   "outputs": [],
   "source": [
    "min_shape = tuple(min(s1, s2) for s1, s2 in zip(seg_gt_data.shape, seg_val_data.shape)) \n",
    "slices = tuple(slice(0, s) for s in min_shape) \n",
    "\n",
    "gt_cropped = seg_gt_data[slices] \n",
    "val_cropped = seg_val_data[slices]"
   ]
  },
  {
   "cell_type": "code",
   "execution_count": 140,
   "id": "51872f11-1813-45d5-8943-ecdcac7e2455",
   "metadata": {
    "execution": {
     "iopub.execute_input": "2025-09-03T15:39:37.793669Z",
     "iopub.status.busy": "2025-09-03T15:39:37.792996Z",
     "iopub.status.idle": "2025-09-03T15:39:37.799608Z",
     "shell.execute_reply": "2025-09-03T15:39:37.799002Z",
     "shell.execute_reply.started": "2025-09-03T15:39:37.793642Z"
    }
   },
   "outputs": [],
   "source": [
    "from scipy.ndimage import zoom \n",
    "def compute_dice(row, epsilon=1e-8):\n",
    "\n",
    "    gt_path = row['gt_paths']\n",
    "    pred_path = row['val_paths']\n",
    "    \n",
    "    try:\n",
    "        gt_data = nib.load(gt_path).get_fdata()\n",
    "        pred_data = nib.load(pred_path).get_fdata()\n",
    "        \n",
    "        # resizing prediction to GT shape by padding\n",
    "        if pred_data.shape != gt_data.shape:\n",
    "            zoom_factors = [t / s for s, t in zip(pred_data.shape, gt_data.shape)]\n",
    "            pred_data = zoom(pred_data, zoom_factors, order=0) \n",
    "        \n",
    "        \n",
    "        pred_bin = (pred_data > 0).astype(bool)\n",
    "        gt_bin = (gt_data > 0).astype(bool)\n",
    "        \n",
    "        # DICE\n",
    "        intersection = np.logical_and(pred_bin, gt_bin).sum()\n",
    "        total = pred_bin.sum() + gt_bin.sum()\n",
    "        \n",
    "        if total == 0:\n",
    "            return 1.0  \n",
    "        \n",
    "        dice = (2.0 * intersection + epsilon) / (total + epsilon)\n",
    "        return dice\n",
    "        \n",
    "    except Exception as e:\n",
    "        print(f\"Error processing GT: {gt_path}, Pred: {pred_path}. Error: {e}\")\n",
    "        return np.nan\n",
    "\n",
    "\n",
    "\n"
   ]
  },
  {
   "cell_type": "code",
   "execution_count": 141,
   "id": "59aad01d-6522-4205-96bb-35ffb5c0617a",
   "metadata": {
    "execution": {
     "iopub.execute_input": "2025-09-03T15:39:38.973515Z",
     "iopub.status.busy": "2025-09-03T15:39:38.973115Z",
     "iopub.status.idle": "2025-09-03T15:39:38.988439Z",
     "shell.execute_reply": "2025-09-03T15:39:38.987820Z",
     "shell.execute_reply.started": "2025-09-03T15:39:38.973487Z"
    }
   },
   "outputs": [
    {
     "data": {
      "text/html": [
       "<div>\n",
       "<style scoped>\n",
       "    .dataframe tbody tr th:only-of-type {\n",
       "        vertical-align: middle;\n",
       "    }\n",
       "\n",
       "    .dataframe tbody tr th {\n",
       "        vertical-align: top;\n",
       "    }\n",
       "\n",
       "    .dataframe thead th {\n",
       "        text-align: right;\n",
       "    }\n",
       "</style>\n",
       "<table border=\"1\" class=\"dataframe\">\n",
       "  <thead>\n",
       "    <tr style=\"text-align: right;\">\n",
       "      <th></th>\n",
       "      <th>liver_id</th>\n",
       "      <th>gt_paths</th>\n",
       "      <th>val_paths</th>\n",
       "      <th>dice_score</th>\n",
       "    </tr>\n",
       "  </thead>\n",
       "  <tbody>\n",
       "    <tr>\n",
       "      <th>0</th>\n",
       "      <td>liver_94</td>\n",
       "      <td>labels_tumor_cropped/liver_94.nii.gz</td>\n",
       "      <td>val_results/liver_94_pred.nii.gz</td>\n",
       "      <td>6.572133e-01</td>\n",
       "    </tr>\n",
       "    <tr>\n",
       "      <th>1</th>\n",
       "      <td>liver_69</td>\n",
       "      <td>labels_tumor_cropped/liver_69.nii.gz</td>\n",
       "      <td>val_results/liver_69_pred.nii.gz</td>\n",
       "      <td>6.795252e-01</td>\n",
       "    </tr>\n",
       "    <tr>\n",
       "      <th>2</th>\n",
       "      <td>liver_64</td>\n",
       "      <td>labels_tumor_cropped/liver_64.nii.gz</td>\n",
       "      <td>val_results/liver_64_pred.nii.gz</td>\n",
       "      <td>9.471631e-01</td>\n",
       "    </tr>\n",
       "    <tr>\n",
       "      <th>3</th>\n",
       "      <td>liver_4</td>\n",
       "      <td>labels_tumor_cropped/liver_4.nii.gz</td>\n",
       "      <td>val_results/liver_4_pred.nii.gz</td>\n",
       "      <td>8.410075e-01</td>\n",
       "    </tr>\n",
       "    <tr>\n",
       "      <th>4</th>\n",
       "      <td>liver_98</td>\n",
       "      <td>labels_tumor_cropped/liver_98.nii.gz</td>\n",
       "      <td>val_results/liver_98_pred.nii.gz</td>\n",
       "      <td>8.893028e-01</td>\n",
       "    </tr>\n",
       "    <tr>\n",
       "      <th>5</th>\n",
       "      <td>liver_123</td>\n",
       "      <td>labels_tumor_cropped/liver_123.nii.gz</td>\n",
       "      <td>val_results/liver_123_pred.nii.gz</td>\n",
       "      <td>8.071070e-01</td>\n",
       "    </tr>\n",
       "    <tr>\n",
       "      <th>6</th>\n",
       "      <td>liver_48</td>\n",
       "      <td>labels_tumor_cropped/liver_48.nii.gz</td>\n",
       "      <td>val_results/liver_48_pred.nii.gz</td>\n",
       "      <td>8.608635e-01</td>\n",
       "    </tr>\n",
       "    <tr>\n",
       "      <th>7</th>\n",
       "      <td>liver_108</td>\n",
       "      <td>labels_tumor_cropped/liver_108.nii.gz</td>\n",
       "      <td>val_results/liver_108_pred.nii.gz</td>\n",
       "      <td>7.360531e-01</td>\n",
       "    </tr>\n",
       "    <tr>\n",
       "      <th>8</th>\n",
       "      <td>liver_102</td>\n",
       "      <td>labels_tumor_cropped/liver_102.nii.gz</td>\n",
       "      <td>val_results/liver_102_pred.nii.gz</td>\n",
       "      <td>6.349069e-01</td>\n",
       "    </tr>\n",
       "    <tr>\n",
       "      <th>9</th>\n",
       "      <td>liver_57</td>\n",
       "      <td>labels_tumor_cropped/liver_57.nii.gz</td>\n",
       "      <td>val_results/liver_57_pred.nii.gz</td>\n",
       "      <td>6.264591e-01</td>\n",
       "    </tr>\n",
       "    <tr>\n",
       "      <th>10</th>\n",
       "      <td>liver_75</td>\n",
       "      <td>labels_tumor_cropped/liver_75.nii.gz</td>\n",
       "      <td>val_results/liver_75_pred.nii.gz</td>\n",
       "      <td>6.392962e-01</td>\n",
       "    </tr>\n",
       "    <tr>\n",
       "      <th>11</th>\n",
       "      <td>liver_88</td>\n",
       "      <td>labels_tumor_cropped/liver_88.nii.gz</td>\n",
       "      <td>val_results/liver_88_pred.nii.gz</td>\n",
       "      <td>5.030784e-01</td>\n",
       "    </tr>\n",
       "    <tr>\n",
       "      <th>12</th>\n",
       "      <td>liver_81</td>\n",
       "      <td>labels_tumor_cropped/liver_81.nii.gz</td>\n",
       "      <td>val_results/liver_81_pred.nii.gz</td>\n",
       "      <td>5.600000e-01</td>\n",
       "    </tr>\n",
       "    <tr>\n",
       "      <th>13</th>\n",
       "      <td>liver_50</td>\n",
       "      <td>labels_tumor_cropped/liver_50.nii.gz</td>\n",
       "      <td>val_results/liver_50_pred.nii.gz</td>\n",
       "      <td>6.440367e-01</td>\n",
       "    </tr>\n",
       "    <tr>\n",
       "      <th>14</th>\n",
       "      <td>liver_44</td>\n",
       "      <td>labels_tumor_cropped/liver_44.nii.gz</td>\n",
       "      <td>val_results/liver_44_pred.nii.gz</td>\n",
       "      <td>6.854554e-03</td>\n",
       "    </tr>\n",
       "    <tr>\n",
       "      <th>15</th>\n",
       "      <td>liver_129</td>\n",
       "      <td>labels_tumor_cropped/liver_129.nii.gz</td>\n",
       "      <td>val_results/liver_129_pred.nii.gz</td>\n",
       "      <td>8.529875e-01</td>\n",
       "    </tr>\n",
       "    <tr>\n",
       "      <th>16</th>\n",
       "      <td>liver_45</td>\n",
       "      <td>labels_tumor_cropped/liver_45.nii.gz</td>\n",
       "      <td>val_results/liver_45_pred.nii.gz</td>\n",
       "      <td>1.011378e-02</td>\n",
       "    </tr>\n",
       "    <tr>\n",
       "      <th>17</th>\n",
       "      <td>liver_87</td>\n",
       "      <td>labels_tumor_cropped/liver_87.nii.gz</td>\n",
       "      <td>val_results/liver_87_pred.nii.gz</td>\n",
       "      <td>1.000000e+00</td>\n",
       "    </tr>\n",
       "    <tr>\n",
       "      <th>18</th>\n",
       "      <td>liver_99</td>\n",
       "      <td>labels_tumor_cropped/liver_99.nii.gz</td>\n",
       "      <td>val_results/liver_99_pred.nii.gz</td>\n",
       "      <td>2.580645e-01</td>\n",
       "    </tr>\n",
       "    <tr>\n",
       "      <th>19</th>\n",
       "      <td>liver_114</td>\n",
       "      <td>labels_tumor_cropped/liver_114.nii.gz</td>\n",
       "      <td>val_results/liver_114_pred.nii.gz</td>\n",
       "      <td>1.000000e-08</td>\n",
       "    </tr>\n",
       "    <tr>\n",
       "      <th>20</th>\n",
       "      <td>liver_89</td>\n",
       "      <td>labels_tumor_cropped/liver_89.nii.gz</td>\n",
       "      <td>val_results/liver_89_pred.nii.gz</td>\n",
       "      <td>1.000000e+00</td>\n",
       "    </tr>\n",
       "    <tr>\n",
       "      <th>21</th>\n",
       "      <td>liver_116</td>\n",
       "      <td>labels_tumor_cropped/liver_116.nii.gz</td>\n",
       "      <td>val_results/liver_116_pred.nii.gz</td>\n",
       "      <td>4.394445e-13</td>\n",
       "    </tr>\n",
       "    <tr>\n",
       "      <th>22</th>\n",
       "      <td>liver_10</td>\n",
       "      <td>labels_tumor_cropped/liver_10.nii.gz</td>\n",
       "      <td>val_results/liver_10_pred.nii.gz</td>\n",
       "      <td>8.271513e-01</td>\n",
       "    </tr>\n",
       "    <tr>\n",
       "      <th>23</th>\n",
       "      <td>liver_16</td>\n",
       "      <td>labels_tumor_cropped/liver_16.nii.gz</td>\n",
       "      <td>val_results/liver_16_pred.nii.gz</td>\n",
       "      <td>8.490421e-01</td>\n",
       "    </tr>\n",
       "    <tr>\n",
       "      <th>24</th>\n",
       "      <td>liver_66</td>\n",
       "      <td>labels_tumor_cropped/liver_66.nii.gz</td>\n",
       "      <td>val_results/liver_66_pred.nii.gz</td>\n",
       "      <td>4.237288e-01</td>\n",
       "    </tr>\n",
       "  </tbody>\n",
       "</table>\n",
       "</div>"
      ],
      "text/plain": [
       "     liver_id  ...    dice_score\n",
       "0    liver_94  ...  6.572133e-01\n",
       "1    liver_69  ...  6.795252e-01\n",
       "2    liver_64  ...  9.471631e-01\n",
       "3     liver_4  ...  8.410075e-01\n",
       "4    liver_98  ...  8.893028e-01\n",
       "5   liver_123  ...  8.071070e-01\n",
       "6    liver_48  ...  8.608635e-01\n",
       "7   liver_108  ...  7.360531e-01\n",
       "8   liver_102  ...  6.349069e-01\n",
       "9    liver_57  ...  6.264591e-01\n",
       "10   liver_75  ...  6.392962e-01\n",
       "11   liver_88  ...  5.030784e-01\n",
       "12   liver_81  ...  5.600000e-01\n",
       "13   liver_50  ...  6.440367e-01\n",
       "14   liver_44  ...  6.854554e-03\n",
       "15  liver_129  ...  8.529875e-01\n",
       "16   liver_45  ...  1.011378e-02\n",
       "17   liver_87  ...  1.000000e+00\n",
       "18   liver_99  ...  2.580645e-01\n",
       "19  liver_114  ...  1.000000e-08\n",
       "20   liver_89  ...  1.000000e+00\n",
       "21  liver_116  ...  4.394445e-13\n",
       "22   liver_10  ...  8.271513e-01\n",
       "23   liver_16  ...  8.490421e-01\n",
       "24   liver_66  ...  4.237288e-01\n",
       "\n",
       "[25 rows x 4 columns]"
      ]
     },
     "execution_count": 141,
     "metadata": {},
     "output_type": "execute_result"
    }
   ],
   "source": [
    "df"
   ]
  },
  {
   "cell_type": "code",
   "execution_count": 142,
   "id": "8054d047-c820-4ff2-a6ac-f7e9e2b8b347",
   "metadata": {
    "execution": {
     "iopub.execute_input": "2025-09-03T15:39:39.997809Z",
     "iopub.status.busy": "2025-09-03T15:39:39.997428Z",
     "iopub.status.idle": "2025-09-03T15:39:41.068288Z",
     "shell.execute_reply": "2025-09-03T15:39:41.067586Z",
     "shell.execute_reply.started": "2025-09-03T15:39:39.997783Z"
    }
   },
   "outputs": [],
   "source": [
    "df['dice_score'] = df.apply(compute_dice, axis = 1)"
   ]
  },
  {
   "cell_type": "code",
   "execution_count": 123,
   "id": "c08483a6-8719-43e6-9cea-d0d7cf37ce1c",
   "metadata": {
    "execution": {
     "iopub.execute_input": "2025-09-03T15:24:55.717862Z",
     "iopub.status.busy": "2025-09-03T15:24:55.717485Z",
     "iopub.status.idle": "2025-09-03T15:24:55.723304Z",
     "shell.execute_reply": "2025-09-03T15:24:55.722744Z",
     "shell.execute_reply.started": "2025-09-03T15:24:55.717835Z"
    }
   },
   "outputs": [],
   "source": [
    "df.to_csv('dice_scores_val.csv')"
   ]
  },
  {
   "cell_type": "code",
   "execution_count": null,
   "id": "8caaacbd-7edc-45f5-b2f2-8816bc7cde4a",
   "metadata": {},
   "outputs": [],
   "source": []
  }
 ],
 "metadata": {
  "kernelspec": {
   "display_name": "monai",
   "language": "python",
   "name": "monai"
  },
  "language_info": {
   "codemirror_mode": {
    "name": "ipython",
    "version": 3
   },
   "file_extension": ".py",
   "mimetype": "text/x-python",
   "name": "python",
   "nbconvert_exporter": "python",
   "pygments_lexer": "ipython3",
   "version": "3.10.17"
  }
 },
 "nbformat": 4,
 "nbformat_minor": 5
}
